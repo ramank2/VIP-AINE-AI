{
 "cells": [
  {
   "cell_type": "markdown",
   "id": "8166e1b1",
   "metadata": {},
   "source": [
    "## Project: Developing ‘Rock, Paper and Scissors’ game using Python programming"
   ]
  },
  {
   "cell_type": "markdown",
   "id": "2e197a4c",
   "metadata": {},
   "source": [
    "About the project: The project leverages the basic concepts of Python programming such as variables, data types, loop and conditional statements to develop the game of Rock, Papers and Scissors."
   ]
  },
  {
   "cell_type": "code",
   "execution_count": 5,
   "id": "f2c77eb6",
   "metadata": {},
   "outputs": [
    {
     "name": "stdout",
     "output_type": "stream",
     "text": [
      "Enter a choice (rock, paper, scissors): rock\n",
      "\n",
      "You chose rock, computer chose paper.\n",
      "\n",
      "Paper covers rock! You lose.\n",
      "Play again? (y/n): y\n",
      "Enter a choice (rock, paper, scissors): paper\n",
      "\n",
      "You chose paper, computer chose rock.\n",
      "\n",
      "Paper covers rock! You win!\n",
      "Play again? (y/n): n\n"
     ]
    }
   ],
   "source": [
    "import random\n",
    "\n",
    "while True:\n",
    "    possible_actions = [\"rock\", \"paper\", \"scissors\"]                 #Number of Possible Action in Game\n",
    "    user_action = input(\"Enter a choice (rock, paper, scissors): \")  # User Choice from rock, paper, scissors\n",
    "    computerchoice = random.choice(possible_actions)                 # Computer Choice from rock, paper, scissors\n",
    "    \n",
    "    print(f\"\\nYou chose {user_action}, computer chose {computerchoice}.\\n\")    # Print the choice of Both user and Computer\n",
    "    \n",
    "    \n",
    "#Create a loop to play the game in all possible actions\n",
    "\n",
    "    if user_action == computerchoice:\n",
    "        print(f\"Both players selected {user_action}. It's a tie!\")\n",
    "    elif user_action == \"rock\":\n",
    "        if computerchoice == \"scissors\":\n",
    "            print(\"Rock smashes scissors! You win!\")\n",
    "        else:\n",
    "            print(\"Paper covers rock! You lose.\")\n",
    "    elif user_action == \"paper\":\n",
    "        if computerchoice == \"rock\":\n",
    "            print(\"Paper covers rock! You win!\")\n",
    "        else:\n",
    "            print(\"Scissors cuts paper! You lose.\")\n",
    "    elif user_action == \"scissors\":\n",
    "        if computerchoice == \"paper\":\n",
    "            print(\"Scissors cuts paper! You win!\")\n",
    "        else:\n",
    "            print(\"Rock smashes scissors! You lose.\")\n",
    "\n",
    "    play_again = input(\"Play again? (y/n): \")      # y=Yes , n=No\n",
    "    if play_again.lower() != \"y\":\n",
    "        break"
   ]
  },
  {
   "cell_type": "code",
   "execution_count": null,
   "id": "e5f0006b",
   "metadata": {},
   "outputs": [],
   "source": []
  }
 ],
 "metadata": {
  "kernelspec": {
   "display_name": "Python 3",
   "language": "python",
   "name": "python3"
  },
  "language_info": {
   "codemirror_mode": {
    "name": "ipython",
    "version": 3
   },
   "file_extension": ".py",
   "mimetype": "text/x-python",
   "name": "python",
   "nbconvert_exporter": "python",
   "pygments_lexer": "ipython3",
   "version": "3.8.8"
  }
 },
 "nbformat": 4,
 "nbformat_minor": 5
}
